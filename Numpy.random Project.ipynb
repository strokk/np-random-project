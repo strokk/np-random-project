{
 "cells": [
  {
   "cell_type": "markdown",
   "metadata": {},
   "source": [
    "# Project for Programming for Data Analysis\n",
    "\n",
    "## Project Summary\n",
    "\n",
    "In this project I have choosen a real world scenario do to some investigation using the numpy.random function in order to simulate a dataset, trying to match as closely as possible the real world scenario. I will be detailing my investigation and show the simulated data.\n",
    "\n",
    "### How to be accepted in a University in the USA\n",
    "\n",
    "For this project I have choosen the scenario of the how students are accepted by universities in the United States. After research, I have come to conclude that the most important variable related to the acceptance of a student in a University is his GAT score, followed by academic performance, financial statements and student's references, but before going any further we have to understand what exactly is the SAT and how the scores as calculated:\n",
    "\n",
    "#### SAT:\n",
    "\n",
    "SAT means Scholastic Aptitude Test or Scholastic Assessment Test and was developed and published by the College Board, a private, non-profit organization in the United States. and It's administered by the Educational Testing Service.\n",
    "\n",
    "The test is intended to assess students' readiness for college, the current SAT, introduced in 2016, takes three hours to finish, plus 50 minutes for the SAT with essay.\n",
    "\n",
    "The SAT is composed by two sections – Evidence Based Reading and Writing (EBRW), and Math. Students can earn a scaled score of between 200 and 800 points on each section, for a total of 1600 points.\n",
    "\n",
    "Now, in order to determine what makes for good SAT scores, it’s important to understand how SAT scoring works. A student's total scoure out of 1600 corresponds to a percentile ranking. The percentile tells what percent of students scored better than others. So as an example, if a given student received a 70th-percentile score, he would have scored better than 70% of all test-takers.\n",
    "\n",
    "After further research I have discovered that the SAT scores follow a normal distribution, meaning that students performance tends to cluster around the middle of the scale. Only fewer students score towards the higher and lower end of the scale.\n",
    "\n",
    "Now we already know how the score is calculated, but in order to simulate a dataset as closely as possible with the reality we also need to know what are the average score and the minimum score that would be accepted by certain Universities.\n",
    "\n",
    "After research under some Universities, a 1280 score would be an accepted score for schools like the University of Cincinnati (average SAT 1240), ASU (average SAT 1230), and Temple (average SAT 1220). But it would be a very low score for highly selective institutions like MIT, CalTech, Duke, University of Chicago, or Johns Hopkins, for example.\n",
    "\n",
    "Although, some other schools are not super selective, and have lower average scores, a score like 1040 would still be a good score for schools like UT Rio Grande Valley (average SAT score 1020), Indiana University Northwest (average SAT score 1000) or Flagler College (average SAT score 1030).\n",
    "\n",
    "The average SAT score can be calculated by states, but for the purpose of this simulation I will use the average of the  National SAT score, which is 1060. \n",
    "\n",
    "\n",
    "#### Academic performance:\n",
    "\n",
    "As the SAT scores, the academic performance also has an impact on student's being accepted by a University, and after research on how Universities calculate the academic performance of a student, I have summarized here the proccess which I will be using for the data simulation:\n",
    "\n",
    "Grades in the US are given in five levels of A, B, C, D and F, each with a grade point from 0 to 4. The academic performance is calculated by converting the grades for all the courses graded in the A-F range to grade points, and calculating the weighted average based on the number of credits. Grades are given in 0 – 100 point scores, with 60 points or more being a pass mark and less than 60 points a fail. \n"
   ]
  },
  {
   "cell_type": "code",
   "execution_count": null,
   "metadata": {},
   "outputs": [],
   "source": []
  }
 ],
 "metadata": {
  "kernelspec": {
   "display_name": "Python 3",
   "language": "python",
   "name": "python3"
  },
  "language_info": {
   "codemirror_mode": {
    "name": "ipython",
    "version": 3
   },
   "file_extension": ".py",
   "mimetype": "text/x-python",
   "name": "python",
   "nbconvert_exporter": "python",
   "pygments_lexer": "ipython3",
   "version": "3.6.5"
  }
 },
 "nbformat": 4,
 "nbformat_minor": 2
}
